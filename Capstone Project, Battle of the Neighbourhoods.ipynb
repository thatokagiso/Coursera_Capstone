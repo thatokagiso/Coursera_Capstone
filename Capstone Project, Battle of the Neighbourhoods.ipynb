{
 "cells": [
  {
   "cell_type": "markdown",
   "metadata": {},
   "source": [
    "# Segmenting and Custering suburbs in the city of Cape Town "
   ]
  },
  {
   "cell_type": "markdown",
   "metadata": {},
   "source": [
    "## Introduction / Business Problem"
   ]
  },
  {
   "cell_type": "markdown",
   "metadata": {},
   "source": [
    "A health and fitness company that just opened its doors in the district of De Waterkant in the city of Cape Town, South Africa provides an integrated health and wellness service to its clients. This company integrates group exercises in their gyms in the form of one of the most revered fitness trends in the world, High Intensity Interval Training or HIIT. HIIT has taken over the late 2010s and is still considered one of the most effective and efficient training paradigms out there. In addition to physical fitness, this company promotes healthy vegan diets to its client base and makes it a point to suggests restaurants and shops that sell vegan food for the benefit of their clients.\n",
    "This is the first franchise that is open in South Africa and the company wants to catalog popular and well rated spots in Cape Town for their clients nourishment. The company provides, as part of its membership, a catalog of restaurants and shops that they go inspect and possibly give their endorsement to so that their clients can be aware of approved food places in the city.\n",
    "\n",
    "Our approach is to collect data of the different areas of the city of Cape Town and then use Foursquare data to find the popular spots that sell vegan food for our clients, this health and fitness company."
   ]
  },
  {
   "cell_type": "markdown",
   "metadata": {},
   "source": [
    "## Data Section"
   ]
  },
  {
   "cell_type": "markdown",
   "metadata": {},
   "source": [
    "The suburbs of Cape Town are organized in their areas or regions (these are similar to Boroughs of Toronto in Canada or New York City in the United States of America) and we will need to scrape 8 different tables and eventually merge them together. We will use Wikipedia for our data scraping and acquire the coordinates of each suburb and  of the areas of Cape Town. We will be using the acquired coordinates to look up popular locations in Cape Town for the for our vegan food catalog and do our data analysis on these locations"
   ]
  },
  {
   "cell_type": "code",
   "execution_count": null,
   "metadata": {},
   "outputs": [],
   "source": []
  }
 ],
 "metadata": {
  "kernelspec": {
   "display_name": "Python 3",
   "language": "python",
   "name": "python3"
  },
  "language_info": {
   "codemirror_mode": {
    "name": "ipython",
    "version": 3
   },
   "file_extension": ".py",
   "mimetype": "text/x-python",
   "name": "python",
   "nbconvert_exporter": "python",
   "pygments_lexer": "ipython3",
   "version": "3.7.4"
  }
 },
 "nbformat": 4,
 "nbformat_minor": 2
}
